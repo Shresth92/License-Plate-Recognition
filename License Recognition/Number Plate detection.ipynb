{
 "cells": [
  {
   "cell_type": "code",
   "execution_count": null,
   "metadata": {},
   "outputs": [],
   "source": [
    "import cv2\n",
    "import imutils as imu\n",
    "from matplotlib import pyplot as plt\n",
    "import numpy as np"
   ]
  },
  {
   "cell_type": "code",
   "execution_count": null,
   "metadata": {},
   "outputs": [],
   "source": [
    "car_cascade = cv2.CascadeClassifier('indian_license_plate.xml')"
   ]
  },
  {
   "cell_type": "code",
   "execution_count": null,
   "metadata": {},
   "outputs": [],
   "source": [
    "cap = cv2.VideoCapture('car.mp4')"
   ]
  },
  {
   "cell_type": "code",
   "execution_count": null,
   "metadata": {},
   "outputs": [],
   "source": [
    "while True:\n",
    "    ret, frames = cap.read()\n",
    "    if frames is not None:\n",
    "        frames = imu.resize(frames, width=640)\n",
    "        gray = cv2.cvtColor(frames, cv2.COLOR_BGR2GRAY)\n",
    "        cars = car_cascade.detectMultiScale(gray, 1.1, 5)\n",
    "        for (x,y,w,h) in cars:\n",
    "            cv2.rectangle(frames,(x,y),(x+w,y+h),[0,0,255],2)\n",
    "            crop = frames[y:y+h,x:x+w]\n",
    "            font = cv2.FONT_HERSHEY_DUPLEX\n",
    "            cv2.putText(frames, 'Car' , (x + 6, y - 6), font, 0.5, (255, 0, 255), 1)\n",
    "            cv2.imshow('Car Detection', frames)\n",
    "            if cv2.waitKey(10) == 13:\n",
    "                cv2.destroyAllWindows()\n",
    "                cap.release()\n",
    "                break\n",
    "    else:\n",
    "        break"
   ]
  }
 ],
 "metadata": {
  "kernelspec": {
   "display_name": "Python 3",
   "language": "python",
   "name": "python3"
  },
  "language_info": {
   "codemirror_mode": {
    "name": "ipython",
    "version": 3
   },
   "file_extension": ".py",
   "mimetype": "text/x-python",
   "name": "python",
   "nbconvert_exporter": "python",
   "pygments_lexer": "ipython3",
   "version": "3.8.5"
  }
 },
 "nbformat": 4,
 "nbformat_minor": 4
}
